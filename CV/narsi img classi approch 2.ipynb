{
 "cells": [
  {
   "cell_type": "code",
   "execution_count": 1,
   "metadata": {},
   "outputs": [],
   "source": [
    "from tensorflow.compat.v1 import ConfigProto\n",
    "from tensorflow.compat.v1 import InteractiveSession\n",
    "\n",
    "config = ConfigProto()\n",
    "config.gpu_options.per_process_gpu_memory_fraction = 0.5\n",
    "config.gpu_options.allow_growth = True\n",
    "session = InteractiveSession(config=config)"
   ]
  },
  {
   "cell_type": "code",
   "execution_count": 2,
   "metadata": {},
   "outputs": [],
   "source": [
    "import tensorflow as tf\n",
    "from tensorflow.keras.preprocessing.image import ImageDataGenerator"
   ]
  },
  {
   "cell_type": "code",
   "execution_count": 3,
   "metadata": {},
   "outputs": [
    {
     "data": {
      "text/plain": [
       "'2.3.0'"
      ]
     },
     "execution_count": 3,
     "metadata": {},
     "output_type": "execute_result"
    }
   ],
   "source": [
    "tf.__version__"
   ]
  },
  {
   "cell_type": "code",
   "execution_count": 4,
   "metadata": {},
   "outputs": [],
   "source": [
    "\n",
    "train_datagen = ImageDataGenerator(rescale = 1./255,\n",
    "                                   shear_range = 0.4,\n",
    "                                   zoom_range = 0.4,\n",
    "                                   horizontal_flip = True)\n"
   ]
  },
  {
   "cell_type": "code",
   "execution_count": 5,
   "metadata": {},
   "outputs": [
    {
     "name": "stdout",
     "output_type": "stream",
     "text": [
      "Found 1500 images belonging to 5 classes.\n"
     ]
    }
   ],
   "source": [
    "training_set = train_datagen.flow_from_directory('C:/Users/Administrator/Desktop/caffemodel/dataset',\n",
    "                                                 target_size = (150, 150),\n",
    "                                                 batch_size = 20,\n",
    "                                                 class_mode = 'categorical')\n",
    "\n",
    "# Preprocessing the Test set\n",
    "#test_datagen = ImageDataGenerator(rescale = 1./255)\n",
    "#test_set = test_datagen.flow_from_directory('C:/Users/Administrator/Desktop/caffemodel/val',\n",
    "                                            #target_size = (64, 64),\n",
    "                                            #batch_size = 32,\n",
    "                                            #class_mode = 'binary')"
   ]
  },
  {
   "cell_type": "code",
   "execution_count": 6,
   "metadata": {},
   "outputs": [],
   "source": [
    "from tensorflow.keras.layers import Conv2D\n",
    "from tensorflow.keras.layers import Dense"
   ]
  },
  {
   "cell_type": "code",
   "execution_count": 7,
   "metadata": {},
   "outputs": [],
   "source": [
    "from tensorflow.keras.regularizers import l2"
   ]
  },
  {
   "cell_type": "code",
   "execution_count": 8,
   "metadata": {},
   "outputs": [],
   "source": [
    "\n",
    "cnn = tf.keras.models.Sequential()\n",
    "\n",
    "cnn.add(tf.keras.layers.Conv2D(filters=32,padding=\"same\",kernel_size=3, activation='relu', strides=2, input_shape=[150, 150, 3]))\n",
    "\n",
    "cnn.add(tf.keras.layers.MaxPool2D(pool_size=2, strides=2))\n",
    "cnn.add(tf.keras.layers.Conv2D(filters=64,padding='same',kernel_size=3, activation='relu'))\n",
    "cnn.add(tf.keras.layers.MaxPool2D(pool_size=2, strides=2))\n",
    "cnn.add(tf.keras.layers.Conv2D(filters=128,padding='same',kernel_size=3, activation='relu'))\n",
    "cnn.add(tf.keras.layers.MaxPool2D(pool_size=2, strides=2))\n",
    "cnn.add(tf.keras.layers.Conv2D(filters=128,padding='same',kernel_size=3, activation='relu'))\n",
    "cnn.add(tf.keras.layers.MaxPool2D(pool_size=2, strides=2))\n",
    "cnn.add(tf.keras.layers.Flatten())\n",
    "\n",
    "cnn.add(tf.keras.layers.Dense(units=256, activation='relu'))\n"
   ]
  },
  {
   "cell_type": "code",
   "execution_count": 9,
   "metadata": {},
   "outputs": [],
   "source": [
    "cnn.add(Dense(5, kernel_regularizer=tf.keras.regularizers.l2(0.01),activation ='softmax'))"
   ]
  },
  {
   "cell_type": "code",
   "execution_count": 10,
   "metadata": {},
   "outputs": [],
   "source": [
    "cnn.compile(loss = 'categorical_crossentropy', optimizer = 'SGD', metrics = ['accuracy'])"
   ]
  },
  {
   "cell_type": "code",
   "execution_count": 11,
   "metadata": {},
   "outputs": [
    {
     "name": "stdout",
     "output_type": "stream",
     "text": [
      "Model: \"sequential\"\n",
      "_________________________________________________________________\n",
      "Layer (type)                 Output Shape              Param #   \n",
      "=================================================================\n",
      "conv2d (Conv2D)              (None, 75, 75, 32)        896       \n",
      "_________________________________________________________________\n",
      "max_pooling2d (MaxPooling2D) (None, 37, 37, 32)        0         \n",
      "_________________________________________________________________\n",
      "conv2d_1 (Conv2D)            (None, 37, 37, 64)        18496     \n",
      "_________________________________________________________________\n",
      "max_pooling2d_1 (MaxPooling2 (None, 18, 18, 64)        0         \n",
      "_________________________________________________________________\n",
      "conv2d_2 (Conv2D)            (None, 18, 18, 128)       73856     \n",
      "_________________________________________________________________\n",
      "max_pooling2d_2 (MaxPooling2 (None, 9, 9, 128)         0         \n",
      "_________________________________________________________________\n",
      "conv2d_3 (Conv2D)            (None, 9, 9, 128)         147584    \n",
      "_________________________________________________________________\n",
      "max_pooling2d_3 (MaxPooling2 (None, 4, 4, 128)         0         \n",
      "_________________________________________________________________\n",
      "flatten (Flatten)            (None, 2048)              0         \n",
      "_________________________________________________________________\n",
      "dense (Dense)                (None, 256)               524544    \n",
      "_________________________________________________________________\n",
      "dense_1 (Dense)              (None, 5)                 1285      \n",
      "=================================================================\n",
      "Total params: 766,661\n",
      "Trainable params: 766,661\n",
      "Non-trainable params: 0\n",
      "_________________________________________________________________\n"
     ]
    }
   ],
   "source": [
    "cnn.summary()"
   ]
  },
  {
   "cell_type": "code",
   "execution_count": 12,
   "metadata": {
    "scrolled": true
   },
   "outputs": [
    {
     "name": "stdout",
     "output_type": "stream",
     "text": [
      "Epoch 1/55\n",
      "75/75 [==============================] - 24s 320ms/step - loss: 1.5713 - accuracy: 0.3607\n",
      "Epoch 2/55\n",
      "75/75 [==============================] - 21s 284ms/step - loss: 1.2952 - accuracy: 0.5087\n",
      "Epoch 3/55\n",
      "75/75 [==============================] - 22s 288ms/step - loss: 1.0880 - accuracy: 0.5633\n",
      "Epoch 4/55\n",
      "75/75 [==============================] - 17s 224ms/step - loss: 0.9995 - accuracy: 0.5793\n",
      "Epoch 5/55\n",
      "75/75 [==============================] - 14s 186ms/step - loss: 0.9146 - accuracy: 0.6333\n",
      "Epoch 6/55\n",
      "75/75 [==============================] - 14s 188ms/step - loss: 0.8561 - accuracy: 0.6687\n",
      "Epoch 7/55\n",
      "75/75 [==============================] - 15s 205ms/step - loss: 0.8333 - accuracy: 0.6760\n",
      "Epoch 8/55\n",
      "75/75 [==============================] - 14s 186ms/step - loss: 0.8181 - accuracy: 0.6673\n",
      "Epoch 9/55\n",
      "75/75 [==============================] - 14s 186ms/step - loss: 0.7776 - accuracy: 0.7107\n",
      "Epoch 10/55\n",
      "75/75 [==============================] - 14s 190ms/step - loss: 0.7572 - accuracy: 0.6973\n",
      "Epoch 11/55\n",
      "75/75 [==============================] - 14s 188ms/step - loss: 0.7622 - accuracy: 0.6940\n",
      "Epoch 12/55\n",
      "75/75 [==============================] - 14s 190ms/step - loss: 0.7572 - accuracy: 0.7087\n",
      "Epoch 13/55\n",
      "75/75 [==============================] - 14s 187ms/step - loss: 0.7335 - accuracy: 0.7213\n",
      "Epoch 14/55\n",
      "75/75 [==============================] - 14s 188ms/step - loss: 0.7141 - accuracy: 0.7267\n",
      "Epoch 15/55\n",
      "75/75 [==============================] - 14s 191ms/step - loss: 0.6982 - accuracy: 0.7407\n",
      "Epoch 16/55\n",
      "75/75 [==============================] - 14s 192ms/step - loss: 0.6944 - accuracy: 0.7380\n",
      "Epoch 17/55\n",
      "75/75 [==============================] - 14s 189ms/step - loss: 0.6840 - accuracy: 0.7353\n",
      "Epoch 18/55\n",
      "75/75 [==============================] - 14s 192ms/step - loss: 0.6642 - accuracy: 0.7347\n",
      "Epoch 19/55\n",
      "75/75 [==============================] - 14s 190ms/step - loss: 0.6537 - accuracy: 0.7587\n",
      "Epoch 20/55\n",
      "75/75 [==============================] - 14s 193ms/step - loss: 0.6459 - accuracy: 0.7527\n",
      "Epoch 21/55\n",
      "75/75 [==============================] - 16s 207ms/step - loss: 0.6226 - accuracy: 0.7520\n",
      "Epoch 22/55\n",
      "75/75 [==============================] - 14s 192ms/step - loss: 0.6348 - accuracy: 0.7533\n",
      "Epoch 23/55\n",
      "75/75 [==============================] - 14s 186ms/step - loss: 0.6034 - accuracy: 0.7633\n",
      "Epoch 24/55\n",
      "75/75 [==============================] - 14s 190ms/step - loss: 0.5854 - accuracy: 0.7687\n",
      "Epoch 25/55\n",
      "75/75 [==============================] - 14s 192ms/step - loss: 0.5882 - accuracy: 0.7753\n",
      "Epoch 26/55\n",
      "75/75 [==============================] - 14s 188ms/step - loss: 0.5716 - accuracy: 0.7753\n",
      "Epoch 27/55\n",
      "75/75 [==============================] - 14s 187ms/step - loss: 0.5452 - accuracy: 0.7987\n",
      "Epoch 28/55\n",
      "75/75 [==============================] - 14s 190ms/step - loss: 0.5525 - accuracy: 0.7927\n",
      "Epoch 29/55\n",
      "75/75 [==============================] - 14s 190ms/step - loss: 0.5362 - accuracy: 0.8047\n",
      "Epoch 30/55\n",
      "75/75 [==============================] - 14s 191ms/step - loss: 0.5392 - accuracy: 0.7947\n",
      "Epoch 31/55\n",
      "75/75 [==============================] - 14s 189ms/step - loss: 0.5018 - accuracy: 0.8153\n",
      "Epoch 32/55\n",
      "75/75 [==============================] - 15s 200ms/step - loss: 0.5007 - accuracy: 0.8153\n",
      "Epoch 33/55\n",
      "75/75 [==============================] - 15s 205ms/step - loss: 0.4877 - accuracy: 0.8280\n",
      "Epoch 34/55\n",
      "75/75 [==============================] - 14s 190ms/step - loss: 0.4856 - accuracy: 0.8140\n",
      "Epoch 35/55\n",
      "75/75 [==============================] - 14s 192ms/step - loss: 0.4724 - accuracy: 0.8247\n",
      "Epoch 36/55\n",
      "75/75 [==============================] - 14s 191ms/step - loss: 0.4696 - accuracy: 0.8267\n",
      "Epoch 37/55\n",
      "75/75 [==============================] - 14s 191ms/step - loss: 0.4588 - accuracy: 0.8347\n",
      "Epoch 38/55\n",
      "75/75 [==============================] - 14s 191ms/step - loss: 0.4301 - accuracy: 0.8387\n",
      "Epoch 39/55\n",
      "75/75 [==============================] - 15s 195ms/step - loss: 0.4320 - accuracy: 0.8447\n",
      "Epoch 40/55\n",
      "75/75 [==============================] - 14s 192ms/step - loss: 0.4154 - accuracy: 0.8527\n",
      "Epoch 41/55\n",
      "75/75 [==============================] - 15s 203ms/step - loss: 0.4328 - accuracy: 0.8333\n",
      "Epoch 42/55\n",
      "75/75 [==============================] - 15s 198ms/step - loss: 0.4259 - accuracy: 0.8400\n",
      "Epoch 43/55\n",
      "75/75 [==============================] - 16s 208ms/step - loss: 0.4179 - accuracy: 0.8507\n",
      "Epoch 44/55\n",
      "75/75 [==============================] - 15s 199ms/step - loss: 0.3912 - accuracy: 0.8600\n",
      "Epoch 45/55\n",
      "75/75 [==============================] - 15s 206ms/step - loss: 0.4406 - accuracy: 0.8293\n",
      "Epoch 46/55\n",
      "75/75 [==============================] - 15s 200ms/step - loss: 0.3985 - accuracy: 0.8567\n",
      "Epoch 47/55\n",
      "75/75 [==============================] - 15s 199ms/step - loss: 0.3812 - accuracy: 0.8680\n",
      "Epoch 48/55\n",
      "75/75 [==============================] - 16s 214ms/step - loss: 0.3849 - accuracy: 0.8547\n",
      "Epoch 49/55\n",
      "75/75 [==============================] - 15s 200ms/step - loss: 0.3573 - accuracy: 0.8673\n",
      "Epoch 50/55\n",
      "75/75 [==============================] - 14s 191ms/step - loss: 0.3698 - accuracy: 0.8567\n",
      "Epoch 51/55\n",
      "75/75 [==============================] - 14s 193ms/step - loss: 0.3709 - accuracy: 0.8693\n",
      "Epoch 52/55\n",
      "75/75 [==============================] - 14s 192ms/step - loss: 0.3422 - accuracy: 0.8787\n",
      "Epoch 53/55\n",
      "75/75 [==============================] - 14s 191ms/step - loss: 0.3612 - accuracy: 0.8693\n",
      "Epoch 54/55\n",
      "75/75 [==============================] - 14s 190ms/step - loss: 0.3584 - accuracy: 0.8713\n",
      "Epoch 55/55\n",
      "75/75 [==============================] - 13s 180ms/step - loss: 0.3402 - accuracy: 0.8813\n"
     ]
    }
   ],
   "source": [
    "r=cnn.fit(x = training_set,  epochs = 55)"
   ]
  },
  {
   "cell_type": "code",
   "execution_count": 13,
   "metadata": {},
   "outputs": [],
   "source": [
    "from tensorflow.keras.models import load_model\n",
    "cnn.save('model_sgd.h5')"
   ]
  },
  {
   "cell_type": "code",
   "execution_count": 2,
   "metadata": {},
   "outputs": [],
   "source": [
    "from tensorflow.keras.models import load_model\n",
    "model = load_model('model_sgd.h5')"
   ]
  },
  {
   "cell_type": "code",
   "execution_count": 3,
   "metadata": {},
   "outputs": [
    {
     "name": "stdout",
     "output_type": "stream",
     "text": [
      "Model: \"sequential\"\n",
      "_________________________________________________________________\n",
      "Layer (type)                 Output Shape              Param #   \n",
      "=================================================================\n",
      "conv2d (Conv2D)              (None, 75, 75, 32)        896       \n",
      "_________________________________________________________________\n",
      "max_pooling2d (MaxPooling2D) (None, 37, 37, 32)        0         \n",
      "_________________________________________________________________\n",
      "conv2d_1 (Conv2D)            (None, 37, 37, 64)        18496     \n",
      "_________________________________________________________________\n",
      "max_pooling2d_1 (MaxPooling2 (None, 18, 18, 64)        0         \n",
      "_________________________________________________________________\n",
      "conv2d_2 (Conv2D)            (None, 18, 18, 128)       73856     \n",
      "_________________________________________________________________\n",
      "max_pooling2d_2 (MaxPooling2 (None, 9, 9, 128)         0         \n",
      "_________________________________________________________________\n",
      "conv2d_3 (Conv2D)            (None, 9, 9, 128)         147584    \n",
      "_________________________________________________________________\n",
      "max_pooling2d_3 (MaxPooling2 (None, 4, 4, 128)         0         \n",
      "_________________________________________________________________\n",
      "flatten (Flatten)            (None, 2048)              0         \n",
      "_________________________________________________________________\n",
      "dense (Dense)                (None, 256)               524544    \n",
      "_________________________________________________________________\n",
      "dense_1 (Dense)              (None, 5)                 1285      \n",
      "=================================================================\n",
      "Total params: 766,661\n",
      "Trainable params: 766,661\n",
      "Non-trainable params: 0\n",
      "_________________________________________________________________\n"
     ]
    }
   ],
   "source": [
    "model.summary()"
   ]
  },
  {
   "cell_type": "code",
   "execution_count": 4,
   "metadata": {},
   "outputs": [],
   "source": [
    "import numpy as np\n",
    "from tensorflow.keras.preprocessing import image\n",
    "test_image = image.load_img('C:/Users/Administrator/Desktop/caffemodel/cloud_4.jpg', target_size = (150,150))\n",
    "test_image = image.img_to_array(test_image)\n",
    "test_image=test_image/255\n",
    "test_image = np.expand_dims(test_image, axis = 0)\n",
    "result = model.predict(test_image)"
   ]
  },
  {
   "cell_type": "code",
   "execution_count": 5,
   "metadata": {},
   "outputs": [
    {
     "data": {
      "text/plain": [
       "array([[2.7996013e-01, 7.0999406e-02, 4.3684398e-03, 6.4426267e-01,\n",
       "        4.0938312e-04]], dtype=float32)"
      ]
     },
     "execution_count": 5,
     "metadata": {},
     "output_type": "execute_result"
    }
   ],
   "source": [
    "result"
   ]
  },
  {
   "cell_type": "code",
   "execution_count": 6,
   "metadata": {},
   "outputs": [],
   "source": [
    "dd=result.flatten()"
   ]
  },
  {
   "cell_type": "code",
   "execution_count": 7,
   "metadata": {},
   "outputs": [
    {
     "data": {
      "text/plain": [
       "[0.27996012568473816,\n",
       " 0.07099940627813339,\n",
       " 0.00436843978241086,\n",
       " 0.6442626714706421,\n",
       " 0.0004093831230420619]"
      ]
     },
     "execution_count": 7,
     "metadata": {},
     "output_type": "execute_result"
    }
   ],
   "source": [
    "res=dd.tolist()\n",
    "res"
   ]
  },
  {
   "cell_type": "code",
   "execution_count": 8,
   "metadata": {},
   "outputs": [
    {
     "data": {
      "text/plain": [
       "3"
      ]
     },
     "execution_count": 8,
     "metadata": {},
     "output_type": "execute_result"
    }
   ],
   "source": [
    "val=res.index(max(res))\n",
    "val"
   ]
  },
  {
   "cell_type": "code",
   "execution_count": 9,
   "metadata": {},
   "outputs": [
    {
     "name": "stdout",
     "output_type": "stream",
     "text": [
      "The image is sunny\n"
     ]
    }
   ],
   "source": [
    "if val==0:\n",
    "    print(\"The image is cloudy\")\n",
    "elif val==1:\n",
    "    print(\"The image is foggy\") \n",
    "elif val == 2: \n",
    "    print(\"The image is rainy\") \n",
    "elif val == 3: \n",
    "    print(\"The image is sunny\")\n",
    "elif val == 4: \n",
    "    print(\"The image is sunrise\")"
   ]
  },
  {
   "cell_type": "code",
   "execution_count": null,
   "metadata": {},
   "outputs": [],
   "source": []
  },
  {
   "cell_type": "code",
   "execution_count": null,
   "metadata": {},
   "outputs": [],
   "source": []
  }
 ],
 "metadata": {
  "kernelspec": {
   "display_name": "Python 3",
   "language": "python",
   "name": "python3"
  },
  "language_info": {
   "codemirror_mode": {
    "name": "ipython",
    "version": 3
   },
   "file_extension": ".py",
   "mimetype": "text/x-python",
   "name": "python",
   "nbconvert_exporter": "python",
   "pygments_lexer": "ipython3",
   "version": "3.8.3"
  }
 },
 "nbformat": 4,
 "nbformat_minor": 4
}
