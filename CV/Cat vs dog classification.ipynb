{
 "cells": [
  {
   "cell_type": "code",
   "execution_count": 1,
   "metadata": {},
   "outputs": [],
   "source": [
    "from tensorflow.compat.v1 import ConfigProto\n",
    "from tensorflow.compat.v1 import InteractiveSession\n",
    "\n",
    "config = ConfigProto()\n",
    "config.gpu_options.per_process_gpu_memory_fraction = 0.8 #allowing tensorflow to access 80% of my GPU\n",
    "config.gpu_options.allow_growth = True\n",
    "session = InteractiveSession(config=config)"
   ]
  },
  {
   "cell_type": "code",
   "execution_count": 2,
   "metadata": {},
   "outputs": [],
   "source": [
    "import tensorflow as tf\n",
    "from tensorflow.keras.preprocessing.image import ImageDataGenerator"
   ]
  },
  {
   "cell_type": "code",
   "execution_count": 3,
   "metadata": {},
   "outputs": [
    {
     "data": {
      "text/plain": [
       "'2.3.0'"
      ]
     },
     "execution_count": 3,
     "metadata": {},
     "output_type": "execute_result"
    }
   ],
   "source": [
    "tf.__version__"
   ]
  },
  {
   "cell_type": "code",
   "execution_count": 4,
   "metadata": {},
   "outputs": [],
   "source": [
    "train_datagen = ImageDataGenerator(rescale = 1./255,\n",
    "                                   shear_range = 0.2,\n",
    "                                   zoom_range = 0.2,\n",
    "                                   horizontal_flip = True)\n"
   ]
  },
  {
   "cell_type": "code",
   "execution_count": 5,
   "metadata": {},
   "outputs": [
    {
     "name": "stdout",
     "output_type": "stream",
     "text": [
      "Found 8400 images belonging to 2 classes.\n",
      "Found 600 images belonging to 2 classes.\n"
     ]
    }
   ],
   "source": [
    "training_set = train_datagen.flow_from_directory('C:/Users/Administrator/animal_bird_classification/train',\n",
    "                                                 target_size = (64, 64),\n",
    "                                                 batch_size = 32,\n",
    "                                                 class_mode = 'binary')\n",
    "# Preprocessing the Test set\n",
    "test_datagen = ImageDataGenerator(rescale = 1./255)\n",
    "test_set = test_datagen.flow_from_directory('C:/Users/Administrator/animal_bird_classification/val',\n",
    "                                           target_size = (64, 64),\n",
    "                                          batch_size = 32,\n",
    "                                         class_mode = 'binary') \n"
   ]
  },
  {
   "cell_type": "code",
   "execution_count": 6,
   "metadata": {},
   "outputs": [],
   "source": [
    "from tensorflow.keras.callbacks import EarlyStopping\n",
    "callback = EarlyStopping(monitor='loss', patience=5,restore_best_weights=True) \n",
    "# This callback will stop the training when the is loss value isn't improving anymore for 5 epochs"
   ]
  },
  {
   "cell_type": "code",
   "execution_count": 7,
   "metadata": {},
   "outputs": [],
   "source": [
    "from tensorflow.keras.layers import Conv2D\n",
    "from tensorflow.keras.layers import Dense"
   ]
  },
  {
   "cell_type": "code",
   "execution_count": 8,
   "metadata": {},
   "outputs": [],
   "source": [
    "from tensorflow.keras.regularizers import l2"
   ]
  },
  {
   "cell_type": "code",
   "execution_count": 9,
   "metadata": {},
   "outputs": [],
   "source": [
    "\n",
    "cnn = tf.keras.models.Sequential()\n",
    "# Adding 4 convolutional layers with different neurons\n",
    "cnn.add(tf.keras.layers.Conv2D(filters=32,padding=\"same\",kernel_size=3, activation='relu', strides=2, input_shape=[64, 64, 3]))\n",
    "\n",
    "cnn.add(tf.keras.layers.MaxPool2D(pool_size=2, strides=2))\n",
    "\n",
    "cnn.add(tf.keras.layers.Conv2D(filters=64,padding='same',kernel_size=3, activation='relu'))\n",
    "cnn.add(tf.keras.layers.MaxPool2D(pool_size=2, strides=2))\n",
    "\n",
    "cnn.add(tf.keras.layers.Conv2D(filters=64,padding='same',kernel_size=3, activation='relu'))\n",
    "cnn.add(tf.keras.layers.MaxPool2D(pool_size=2, strides=2))\n",
    "\n",
    "cnn.add(tf.keras.layers.Conv2D(filters=64,padding='same',kernel_size=3, activation='relu'))\n",
    "cnn.add(tf.keras.layers.MaxPool2D(pool_size=2, strides=2))\n",
    "\n",
    "cnn.add(tf.keras.layers.Conv2D(filters=128,padding='same',kernel_size=3, activation='relu'))\n",
    "cnn.add(tf.keras.layers.MaxPool2D(pool_size=2, strides=2))\n",
    "#Flattening the input tensors\n",
    "cnn.add(tf.keras.layers.Flatten())\n",
    "\n",
    "#Full Connection\n",
    "cnn.add(tf.keras.layers.Dense(units=128, activation='relu'))\n",
    "#since this is binary classification hence 1 nuerons\n",
    "cnn.add(Dense(1, kernel_regularizer=tf.keras.regularizers.l2(0.01),activation='linear'))"
   ]
  },
  {
   "cell_type": "code",
   "execution_count": 10,
   "metadata": {},
   "outputs": [
    {
     "name": "stdout",
     "output_type": "stream",
     "text": [
      "Model: \"sequential\"\n",
      "_________________________________________________________________\n",
      "Layer (type)                 Output Shape              Param #   \n",
      "=================================================================\n",
      "conv2d (Conv2D)              (None, 32, 32, 32)        896       \n",
      "_________________________________________________________________\n",
      "max_pooling2d (MaxPooling2D) (None, 16, 16, 32)        0         \n",
      "_________________________________________________________________\n",
      "conv2d_1 (Conv2D)            (None, 16, 16, 64)        18496     \n",
      "_________________________________________________________________\n",
      "max_pooling2d_1 (MaxPooling2 (None, 8, 8, 64)          0         \n",
      "_________________________________________________________________\n",
      "conv2d_2 (Conv2D)            (None, 8, 8, 64)          36928     \n",
      "_________________________________________________________________\n",
      "max_pooling2d_2 (MaxPooling2 (None, 4, 4, 64)          0         \n",
      "_________________________________________________________________\n",
      "conv2d_3 (Conv2D)            (None, 4, 4, 64)          36928     \n",
      "_________________________________________________________________\n",
      "max_pooling2d_3 (MaxPooling2 (None, 2, 2, 64)          0         \n",
      "_________________________________________________________________\n",
      "conv2d_4 (Conv2D)            (None, 2, 2, 128)         73856     \n",
      "_________________________________________________________________\n",
      "max_pooling2d_4 (MaxPooling2 (None, 1, 1, 128)         0         \n",
      "_________________________________________________________________\n",
      "flatten (Flatten)            (None, 128)               0         \n",
      "_________________________________________________________________\n",
      "dense (Dense)                (None, 128)               16512     \n",
      "_________________________________________________________________\n",
      "dense_1 (Dense)              (None, 1)                 129       \n",
      "=================================================================\n",
      "Total params: 183,745\n",
      "Trainable params: 183,745\n",
      "Non-trainable params: 0\n",
      "_________________________________________________________________\n"
     ]
    }
   ],
   "source": [
    "cnn.summary()"
   ]
  },
  {
   "cell_type": "code",
   "execution_count": 11,
   "metadata": {
    "scrolled": true
   },
   "outputs": [
    {
     "name": "stdout",
     "output_type": "stream",
     "text": [
      "Epoch 1/100\n",
      "263/263 [==============================] - 27s 102ms/step - loss: 0.9713 - accuracy: 0.5230 - val_loss: 0.7769 - val_accuracy: 0.6483\n",
      "Epoch 2/100\n",
      "263/263 [==============================] - 26s 98ms/step - loss: 0.7508 - accuracy: 0.6438 - val_loss: 0.7749 - val_accuracy: 0.6617\n",
      "Epoch 3/100\n",
      "263/263 [==============================] - 26s 97ms/step - loss: 0.6809 - accuracy: 0.6825 - val_loss: 0.6209 - val_accuracy: 0.7067\n",
      "Epoch 4/100\n",
      "263/263 [==============================] - 23s 88ms/step - loss: 0.6295 - accuracy: 0.6996 - val_loss: 0.5717 - val_accuracy: 0.7300\n",
      "Epoch 5/100\n",
      "263/263 [==============================] - 23s 87ms/step - loss: 0.6209 - accuracy: 0.7019 - val_loss: 0.6238 - val_accuracy: 0.7133\n",
      "Epoch 6/100\n",
      "263/263 [==============================] - 23s 88ms/step - loss: 0.6083 - accuracy: 0.7106 - val_loss: 0.6816 - val_accuracy: 0.6750\n",
      "Epoch 7/100\n",
      "263/263 [==============================] - 23s 87ms/step - loss: 0.6024 - accuracy: 0.7129 - val_loss: 0.5816 - val_accuracy: 0.7233\n",
      "Epoch 8/100\n",
      "263/263 [==============================] - 23s 86ms/step - loss: 0.5584 - accuracy: 0.7321 - val_loss: 0.5498 - val_accuracy: 0.7383\n",
      "Epoch 9/100\n",
      "263/263 [==============================] - 24s 91ms/step - loss: 0.5594 - accuracy: 0.7286 - val_loss: 0.5775 - val_accuracy: 0.7250\n",
      "Epoch 10/100\n",
      "263/263 [==============================] - 24s 90ms/step - loss: 0.5531 - accuracy: 0.7311 - val_loss: 0.5559 - val_accuracy: 0.7367\n",
      "Epoch 11/100\n",
      "263/263 [==============================] - 24s 90ms/step - loss: 0.5403 - accuracy: 0.7387 - val_loss: 0.5648 - val_accuracy: 0.7317\n",
      "Epoch 12/100\n",
      "263/263 [==============================] - 24s 91ms/step - loss: 0.5369 - accuracy: 0.7413 - val_loss: 0.5871 - val_accuracy: 0.7183\n",
      "Epoch 13/100\n",
      "263/263 [==============================] - 25s 97ms/step - loss: 0.5209 - accuracy: 0.7465 - val_loss: 0.6345 - val_accuracy: 0.7033\n",
      "Epoch 14/100\n",
      "263/263 [==============================] - 24s 91ms/step - loss: 0.5189 - accuracy: 0.7502 - val_loss: 0.4938 - val_accuracy: 0.7667\n",
      "Epoch 15/100\n",
      "263/263 [==============================] - 25s 97ms/step - loss: 0.5035 - accuracy: 0.7555 - val_loss: 0.5188 - val_accuracy: 0.7550\n",
      "Epoch 16/100\n",
      "263/263 [==============================] - 28s 107ms/step - loss: 0.4904 - accuracy: 0.7601 - val_loss: 0.5273 - val_accuracy: 0.7483\n",
      "Epoch 17/100\n",
      "263/263 [==============================] - 30s 113ms/step - loss: 0.5033 - accuracy: 0.7551 - val_loss: 0.4750 - val_accuracy: 0.7783\n",
      "Epoch 18/100\n",
      "263/263 [==============================] - 31s 118ms/step - loss: 0.4817 - accuracy: 0.7664 - val_loss: 0.4918 - val_accuracy: 0.7683\n",
      "Epoch 19/100\n",
      "263/263 [==============================] - 28s 107ms/step - loss: 0.4906 - accuracy: 0.7624 - val_loss: 0.5570 - val_accuracy: 0.7433\n",
      "Epoch 20/100\n",
      "263/263 [==============================] - 34s 128ms/step - loss: 0.4814 - accuracy: 0.7649 - val_loss: 0.6311 - val_accuracy: 0.7033\n",
      "Epoch 21/100\n",
      "263/263 [==============================] - 29s 112ms/step - loss: 0.4756 - accuracy: 0.7690 - val_loss: 0.5035 - val_accuracy: 0.7617\n",
      "Epoch 22/100\n",
      "263/263 [==============================] - 28s 105ms/step - loss: 0.4638 - accuracy: 0.7725 - val_loss: 0.4402 - val_accuracy: 0.7817\n",
      "Epoch 23/100\n",
      "263/263 [==============================] - 28s 105ms/step - loss: 0.4450 - accuracy: 0.7857 - val_loss: 0.4922 - val_accuracy: 0.7667\n",
      "Epoch 24/100\n",
      "263/263 [==============================] - 28s 106ms/step - loss: 0.4619 - accuracy: 0.7749 - val_loss: 0.5274 - val_accuracy: 0.7417\n",
      "Epoch 25/100\n",
      "263/263 [==============================] - 29s 110ms/step - loss: 0.4716 - accuracy: 0.7705 - val_loss: 0.5456 - val_accuracy: 0.7433\n",
      "Epoch 26/100\n",
      "263/263 [==============================] - 29s 110ms/step - loss: 0.4601 - accuracy: 0.7765 - val_loss: 0.5658 - val_accuracy: 0.7333\n",
      "Epoch 27/100\n",
      "263/263 [==============================] - 28s 108ms/step - loss: 0.4482 - accuracy: 0.7829 - val_loss: 0.4714 - val_accuracy: 0.7783\n",
      "Epoch 28/100\n",
      "263/263 [==============================] - 28s 108ms/step - loss: 0.4305 - accuracy: 0.7888 - val_loss: 0.5903 - val_accuracy: 0.7233\n",
      "Epoch 29/100\n",
      "263/263 [==============================] - 27s 103ms/step - loss: 0.4492 - accuracy: 0.7849 - val_loss: 0.4398 - val_accuracy: 0.7850\n",
      "Epoch 30/100\n",
      "263/263 [==============================] - 27s 103ms/step - loss: 0.4316 - accuracy: 0.7892 - val_loss: 0.4553 - val_accuracy: 0.7833\n",
      "Epoch 31/100\n",
      "263/263 [==============================] - 27s 103ms/step - loss: 0.4352 - accuracy: 0.7895 - val_loss: 0.5412 - val_accuracy: 0.7517\n",
      "Epoch 32/100\n",
      "263/263 [==============================] - 27s 103ms/step - loss: 0.3986 - accuracy: 0.8045 - val_loss: 0.4796 - val_accuracy: 0.7650\n",
      "Epoch 33/100\n",
      "263/263 [==============================] - 27s 103ms/step - loss: 0.4105 - accuracy: 0.7999 - val_loss: 0.4737 - val_accuracy: 0.7733\n",
      "Epoch 34/100\n",
      "263/263 [==============================] - 27s 104ms/step - loss: 0.4160 - accuracy: 0.7987 - val_loss: 0.4941 - val_accuracy: 0.7650\n",
      "Epoch 35/100\n",
      "263/263 [==============================] - 27s 103ms/step - loss: 0.4116 - accuracy: 0.7998 - val_loss: 0.4693 - val_accuracy: 0.7750\n",
      "Epoch 36/100\n",
      "263/263 [==============================] - 27s 103ms/step - loss: 0.4105 - accuracy: 0.8001 - val_loss: 0.4521 - val_accuracy: 0.7817\n",
      "Epoch 37/100\n",
      "263/263 [==============================] - 27s 104ms/step - loss: 0.3962 - accuracy: 0.8074 - val_loss: 0.4928 - val_accuracy: 0.7683\n",
      "Epoch 38/100\n",
      "263/263 [==============================] - 27s 104ms/step - loss: 0.3988 - accuracy: 0.8080 - val_loss: 0.4562 - val_accuracy: 0.7817\n",
      "Epoch 39/100\n",
      "263/263 [==============================] - 29s 109ms/step - loss: 0.3997 - accuracy: 0.8060 - val_loss: 0.4395 - val_accuracy: 0.7833\n",
      "Epoch 40/100\n",
      "263/263 [==============================] - 28s 106ms/step - loss: 0.3898 - accuracy: 0.8098 - val_loss: 0.4924 - val_accuracy: 0.7633\n",
      "Epoch 41/100\n",
      "263/263 [==============================] - 28s 106ms/step - loss: 0.4125 - accuracy: 0.8008 - val_loss: 0.4384 - val_accuracy: 0.7867\n",
      "Epoch 42/100\n",
      "263/263 [==============================] - 28s 106ms/step - loss: 0.3908 - accuracy: 0.8094 - val_loss: 0.4977 - val_accuracy: 0.7683\n",
      "Epoch 43/100\n",
      "263/263 [==============================] - 28s 105ms/step - loss: 0.3900 - accuracy: 0.8127 - val_loss: 0.4526 - val_accuracy: 0.7800\n",
      "Epoch 44/100\n",
      "263/263 [==============================] - 28s 106ms/step - loss: 0.3884 - accuracy: 0.8114 - val_loss: 0.4147 - val_accuracy: 0.7983\n",
      "Epoch 45/100\n",
      "263/263 [==============================] - 29s 110ms/step - loss: 0.3985 - accuracy: 0.8056 - val_loss: 0.4325 - val_accuracy: 0.7917\n",
      "Epoch 46/100\n",
      "263/263 [==============================] - 27s 103ms/step - loss: 0.3814 - accuracy: 0.8140 - val_loss: 0.5536 - val_accuracy: 0.7483\n",
      "Epoch 47/100\n",
      "263/263 [==============================] - 27s 104ms/step - loss: 0.3833 - accuracy: 0.8133 - val_loss: 0.4563 - val_accuracy: 0.7783\n",
      "Epoch 48/100\n",
      "263/263 [==============================] - 30s 114ms/step - loss: 0.3688 - accuracy: 0.8200 - val_loss: 0.4449 - val_accuracy: 0.7917\n",
      "Epoch 49/100\n",
      "263/263 [==============================] - 28s 106ms/step - loss: 0.3715 - accuracy: 0.8190 - val_loss: 0.4550 - val_accuracy: 0.7817\n",
      "Epoch 50/100\n",
      "263/263 [==============================] - 28s 106ms/step - loss: 0.3683 - accuracy: 0.8204 - val_loss: 0.4436 - val_accuracy: 0.7817\n",
      "Epoch 51/100\n",
      "263/263 [==============================] - 28s 106ms/step - loss: 0.3811 - accuracy: 0.8167 - val_loss: 0.4716 - val_accuracy: 0.7833\n",
      "Epoch 52/100\n",
      "263/263 [==============================] - 28s 107ms/step - loss: 0.3784 - accuracy: 0.8169 - val_loss: 0.4752 - val_accuracy: 0.7650\n",
      "Epoch 53/100\n",
      "263/263 [==============================] - 30s 116ms/step - loss: 0.3777 - accuracy: 0.8170 - val_loss: 0.4559 - val_accuracy: 0.7817\n",
      "Epoch 54/100\n",
      "263/263 [==============================] - 29s 108ms/step - loss: 0.3746 - accuracy: 0.8161 - val_loss: 0.4219 - val_accuracy: 0.8000\n",
      "Epoch 55/100\n",
      "263/263 [==============================] - 29s 109ms/step - loss: 0.3664 - accuracy: 0.8213 - val_loss: 0.4139 - val_accuracy: 0.8000\n",
      "Epoch 56/100\n",
      "263/263 [==============================] - 28s 108ms/step - loss: 0.3463 - accuracy: 0.8327 - val_loss: 0.3784 - val_accuracy: 0.8117\n"
     ]
    },
    {
     "name": "stdout",
     "output_type": "stream",
     "text": [
      "Epoch 57/100\n",
      "263/263 [==============================] - 28s 108ms/step - loss: 0.3396 - accuracy: 0.8338 - val_loss: 0.4006 - val_accuracy: 0.8100\n",
      "Epoch 58/100\n",
      "263/263 [==============================] - 28s 108ms/step - loss: 0.3489 - accuracy: 0.8304 - val_loss: 0.3999 - val_accuracy: 0.8083\n",
      "Epoch 59/100\n",
      "263/263 [==============================] - 28s 108ms/step - loss: 0.3505 - accuracy: 0.8288 - val_loss: 0.3985 - val_accuracy: 0.8067\n",
      "Epoch 60/100\n",
      "263/263 [==============================] - 28s 107ms/step - loss: 0.3842 - accuracy: 0.8146 - val_loss: 0.4305 - val_accuracy: 0.7950\n",
      "Epoch 61/100\n",
      "263/263 [==============================] - 28s 107ms/step - loss: 0.3583 - accuracy: 0.8261 - val_loss: 0.4801 - val_accuracy: 0.7800\n",
      "Epoch 62/100\n",
      "263/263 [==============================] - 28s 107ms/step - loss: 0.3491 - accuracy: 0.8320 - val_loss: 0.4201 - val_accuracy: 0.7983\n"
     ]
    }
   ],
   "source": [
    "\n",
    "cnn.compile(optimizer = 'adam', loss = 'hinge', metrics = ['accuracy'])\n",
    "# hinge loss function is used here since we are using linear SVM in the output layer\n",
    "r=cnn.fit(x = training_set,validation_data = test_set, epochs = 100,verbose=1,callbacks=[callback])"
   ]
  },
  {
   "cell_type": "code",
   "execution_count": 12,
   "metadata": {},
   "outputs": [
    {
     "data": {
      "image/png": "[encoded data removed]",
      "text/plain": [
       "<Figure size 432x288 with 1 Axes>"
      ]
     },
     "metadata": {
      "needs_background": "light"
     },
     "output_type": "display_data"
    },
    {
     "data": {
      "image/png": "[encoded data removed]",
      "text/plain": [
       "<Figure size 432x288 with 1 Axes>"
      ]
     },
     "metadata": {
      "needs_background": "light"
     },
     "output_type": "display_data"
    },
    {
     "data": {
      "text/plain": [
       "<Figure size 432x288 with 0 Axes>"
      ]
     },
     "metadata": {},
     "output_type": "display_data"
    }
   ],
   "source": [
    "# plot the loss\n",
    "import matplotlib.pyplot as plt\n",
    "plt.plot(r.history['loss'], label='train loss')\n",
    "plt.plot(r.history['val_loss'], label='val loss')\n",
    "plt.legend()\n",
    "plt.show()\n",
    "plt.savefig('LossVal_loss')\n",
    "\n",
    "# plot the accuracy\n",
    "plt.plot(r.history['accuracy'], label='train acc')\n",
    "plt.plot(r.history['val_accuracy'], label='val acc')\n",
    "plt.legend()\n",
    "plt.show()\n",
    "plt.savefig('AccVal_acc')"
   ]
  },
  {
   "cell_type": "code",
   "execution_count": 29,
   "metadata": {},
   "outputs": [],
   "source": [
    "from tensorflow.keras.models import load_model\n",
    "\n",
    "cnn.save('dc1.h5')"
   ]
  },
  {
   "cell_type": "code",
   "execution_count": 30,
   "metadata": {},
   "outputs": [],
   "source": [
    "from tensorflow.keras.models import load_model\n",
    "\n",
    "model = load_model('dc1.h5')"
   ]
  },
  {
   "cell_type": "code",
   "execution_count": 31,
   "metadata": {},
   "outputs": [
    {
     "name": "stdout",
     "output_type": "stream",
     "text": [
      "Model: \"sequential\"\n",
      "_________________________________________________________________\n",
      "Layer (type)                 Output Shape              Param #   \n",
      "=================================================================\n",
      "conv2d (Conv2D)              (None, 32, 32, 32)        896       \n",
      "_________________________________________________________________\n",
      "max_pooling2d (MaxPooling2D) (None, 16, 16, 32)        0         \n",
      "_________________________________________________________________\n",
      "conv2d_1 (Conv2D)            (None, 16, 16, 64)        18496     \n",
      "_________________________________________________________________\n",
      "max_pooling2d_1 (MaxPooling2 (None, 8, 8, 64)          0         \n",
      "_________________________________________________________________\n",
      "conv2d_2 (Conv2D)            (None, 8, 8, 64)          36928     \n",
      "_________________________________________________________________\n",
      "max_pooling2d_2 (MaxPooling2 (None, 4, 4, 64)          0         \n",
      "_________________________________________________________________\n",
      "conv2d_3 (Conv2D)            (None, 4, 4, 64)          36928     \n",
      "_________________________________________________________________\n",
      "max_pooling2d_3 (MaxPooling2 (None, 2, 2, 64)          0         \n",
      "_________________________________________________________________\n",
      "conv2d_4 (Conv2D)            (None, 2, 2, 128)         73856     \n",
      "_________________________________________________________________\n",
      "max_pooling2d_4 (MaxPooling2 (None, 1, 1, 128)         0         \n",
      "_________________________________________________________________\n",
      "flatten (Flatten)            (None, 128)               0         \n",
      "_________________________________________________________________\n",
      "dense (Dense)                (None, 128)               16512     \n",
      "_________________________________________________________________\n",
      "dense_1 (Dense)              (None, 1)                 129       \n",
      "=================================================================\n",
      "Total params: 183,745\n",
      "Trainable params: 183,745\n",
      "Non-trainable params: 0\n",
      "_________________________________________________________________\n"
     ]
    }
   ],
   "source": [
    "model.summary()"
   ]
  },
  {
   "cell_type": "code",
   "execution_count": 32,
   "metadata": {},
   "outputs": [],
   "source": [
    "import numpy as np\n",
    "from tensorflow.keras.preprocessing import image\n",
    "d=\"C:/Users/Administrator/Downloads/PetImages/Cat/11900.jpg\"\n",
    "test_image = image.load_img(d, target_size = (64,64))\n",
    "test_image = image.img_to_array(test_image)\n",
    "test_image=test_image/255\n",
    "test_image = np.expand_dims(test_image, axis = 0)\n",
    "result = model.predict(test_image)"
   ]
  },
  {
   "cell_type": "code",
   "execution_count": 33,
   "metadata": {},
   "outputs": [],
   "source": [
    "from PIL import Image \n",
    "im = Image.open(r\"{}\".format(d)) \n",
    "im.show()"
   ]
  },
  {
   "cell_type": "code",
   "execution_count": 34,
   "metadata": {},
   "outputs": [
    {
     "data": {
      "text/plain": [
       "[-1.0836522579193115]"
      ]
     },
     "execution_count": 34,
     "metadata": {},
     "output_type": "execute_result"
    }
   ],
   "source": [
    "result\n",
    "dd=result.flatten()\n",
    "res=dd.tolist()\n",
    "res"
   ]
  },
  {
   "cell_type": "code",
   "execution_count": 35,
   "metadata": {},
   "outputs": [
    {
     "name": "stdout",
     "output_type": "stream",
     "text": [
      "cat\n"
     ]
    }
   ],
   "source": [
    "if result[0]<0:\n",
    "    print(\"cat\")\n",
    "else:\n",
    "    print(\"dog\")"
   ]
  },
  {
   "cell_type": "code",
   "execution_count": null,
   "metadata": {},
   "outputs": [],
   "source": []
  },
  {
   "cell_type": "code",
   "execution_count": null,
   "metadata": {},
   "outputs": [],
   "source": []
  }
 ],
 "metadata": {
  "kernelspec": {
   "display_name": "Python 3",
   "language": "python",
   "name": "python3"
  },
  "language_info": {
   "codemirror_mode": {
    "name": "ipython",
    "version": 3
   },
   "file_extension": ".py",
   "mimetype": "text/x-python",
   "name": "python",
   "nbconvert_exporter": "python",
   "pygments_lexer": "ipython3",
   "version": "3.8.3"
  }
 },
 "nbformat": 4,
 "nbformat_minor": 4
}
